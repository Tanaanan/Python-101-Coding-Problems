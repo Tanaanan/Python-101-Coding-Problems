{
 "cells": [
  {
   "cell_type": "code",
   "execution_count": 28,
   "metadata": {},
   "outputs": [
    {
     "data": {
      "text/plain": [
       "'FF'"
      ]
     },
     "execution_count": 28,
     "metadata": {},
     "output_type": "execute_result"
    }
   ],
   "source": [
    "\n",
    "def color(RGB=255):\n",
    "    if RGB > 255:\n",
    "        RGB = 255\n",
    "    elif RGB < 0:\n",
    "        RGB = 0\n",
    "    RGB = hex(RGB)[2:].upper()\n",
    "    if len(RGB)<2:\n",
    "        RGB = '0'+RGB\n",
    "    return RGB    \n",
    "\n",
    "def rgb(r, g, b):\n",
    "    return color(r)+color(g)+color(b)\n",
    "\n",
    "color()\n",
    "#rgb()\n"
   ]
  },
  {
   "cell_type": "code",
   "execution_count": 1,
   "metadata": {},
   "outputs": [
    {
     "data": {
      "text/plain": [
       "'FFFFFF'"
      ]
     },
     "execution_count": 1,
     "metadata": {},
     "output_type": "execute_result"
    }
   ],
   "source": [
    "RGB = list(input(\"\").split(\" \"))\n",
    "R = int(RGB[0])\n",
    "G = int(RGB[1])\n",
    "B = int(RGB[2])\n",
    "\n",
    "\n",
    "\n",
    "def color(colour):\n",
    "    if colour > 255:\n",
    "        colour = 255\n",
    "    elif colour < 0:\n",
    "        colour = 0\n",
    "\n",
    "    colour = hex(colour)[2:].upper()\n",
    "    if len(colour) < 2:\n",
    "        colour = \"0\"+colour\n",
    "    return colour\n",
    "\n",
    "def rgb(r,g,b):\n",
    "    return (color(r)+color(g)+color(b))\n",
    "\n",
    "rgb(R,G,B)\n",
    "    "
   ]
  },
  {
   "cell_type": "code",
   "execution_count": 121,
   "metadata": {},
   "outputs": [
    {
     "data": {
      "text/plain": [
       "'thePippiPasPippi'"
      ]
     },
     "execution_count": 121,
     "metadata": {},
     "output_type": "execute_result"
    }
   ],
   "source": [
    "text = \"the_pippi-pas-pippi\" #testcase\n",
    "\n",
    "def to_camel_case(text):\n",
    "    if \"-\" in text:\n",
    "        Camel_text = text.split(\"-\") \n",
    "    elif \"_\" in text:\n",
    "        Camel_text = text.split(\"_\") \n",
    "    else:\n",
    "        return text\n",
    "\n",
    "    Basedtext = Camel_text[0] #text[0] don't change\n",
    "    Camel_text.remove(Camel_text[0]) \n",
    "\n",
    "    List_result = []\n",
    "\n",
    "    for word in Camel_text:\n",
    "        if word[0].isupper():\n",
    "            List_result.append(word)\n",
    "        else:\n",
    "            List_result.append(word[0].upper()+word[1:])\n",
    "\n",
    "    result = (\"\").join(List_result) \n",
    "    result = Basedtext+result\n",
    "    \n",
    "    return to_camel_case(result) #double check when method have \"-\" and \"_\"\n",
    "    \n",
    "\n",
    "to_camel_case(text)\n",
    "\n",
    "\n",
    "\n",
    "\n"
   ]
  },
  {
   "cell_type": "code",
   "execution_count": 124,
   "metadata": {},
   "outputs": [
    {
     "name": "stdout",
     "output_type": "stream",
     "text": [
      "['the', 'pippi', 'pas', 'pippi']\n"
     ]
    },
    {
     "data": {
      "text/plain": [
       "'thePippiPasPippi'"
      ]
     },
     "execution_count": 124,
     "metadata": {},
     "output_type": "execute_result"
    }
   ],
   "source": [
    "def to_camel_case(text):\n",
    "    removed = text.replace('-', ' ').replace('_', ' ').split()\n",
    "    print(removed)\n",
    "    if len(removed) == 0:\n",
    "        return ''\n",
    "    return removed[0]+ ''.join([x.capitalize() for x in removed[1:]])\n",
    "\n",
    "to_camel_case(\"the_pippi-pas-pippi\")"
   ]
  },
  {
   "cell_type": "code",
   "execution_count": 129,
   "metadata": {},
   "outputs": [
    {
     "data": {
      "text/plain": [
       "'ello!Hay'"
      ]
     },
     "execution_count": 129,
     "metadata": {},
     "output_type": "execute_result"
    }
   ],
   "source": [
    "def pig_it(text):\n",
    "    '''Converts text into pig-latin'''\n",
    "    split_text = text.split(' ')\n",
    "    pig_sentence = ' '\n",
    "    \n",
    "    for word in split_text:\n",
    "        if word in '!.%&?':\n",
    "            pig_sentence = pig_sentence + word\n",
    "        else:\n",
    "            pig_word = word[1:] + word[0] + 'ay'\n",
    "            pig_sentence = pig_sentence + pig_word + ' '\n",
    "    \n",
    "    \n",
    "    return pig_sentence.strip(' ') \n",
    "\n",
    "pig_it(\"Hello! \")"
   ]
  }
 ],
 "metadata": {
  "interpreter": {
   "hash": "e9c86c43a356a27dd221d3bc44ba6fccb321acf27d5ba56e5552409ba7544a0e"
  },
  "kernelspec": {
   "display_name": "Python 3.9.2 64-bit",
   "name": "python3"
  },
  "language_info": {
   "codemirror_mode": {
    "name": "ipython",
    "version": 3
   },
   "file_extension": ".py",
   "mimetype": "text/x-python",
   "name": "python",
   "nbconvert_exporter": "python",
   "pygments_lexer": "ipython3",
   "version": "3.9.2"
  },
  "orig_nbformat": 4
 },
 "nbformat": 4,
 "nbformat_minor": 2
}
