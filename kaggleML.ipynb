{
    "cells": [
        {
            "cell_type": "code",
            "execution_count": 6,
            "source": [
                "pi = 3.14159\r\n",
                "diameter = 3\r\n",
                "radius = diameter / 2\r\n",
                "area = (pi * radius)\r\n",
                "print(radius)\r\n",
                "print(area)"
            ],
            "outputs": [
                {
                    "output_type": "stream",
                    "name": "stdout",
                    "text": [
                        "1.5\n",
                        "4.712384999999999\n"
                    ]
                }
            ],
            "metadata": {}
        },
        {
            "cell_type": "code",
            "execution_count": 5,
            "source": [
                "# round = ปัดเลข\r\n",
                "print(1, 2, 3, sep = ' + ') # sep = ใส่ตัวอักษรพิเศษระหว่างตัวแปรที่ต้องการปริ้น\r\n",
                "print(1, 2, 3)"
            ],
            "outputs": [
                {
                    "output_type": "stream",
                    "name": "stdout",
                    "text": [
                        "1 + 2 + 3\n",
                        "1 2 3\n"
                    ]
                }
            ],
            "metadata": {}
        },
        {
            "cell_type": "code",
            "execution_count": 6,
            "source": [
                "def greet (who = \"Colin\"):\r\n",
                "    print(\"Hello, \",who)\r\n",
                "\r\n",
                "greet()\r\n",
                "greet(who=\"MJ\")\r\n",
                "greet(\"Mark\")"
            ],
            "outputs": [
                {
                    "output_type": "stream",
                    "name": "stdout",
                    "text": [
                        "Hello,  Colin\n",
                        "Hello,  MJ\n",
                        "Hello,  Mark\n"
                    ]
                }
            ],
            "metadata": {}
        },
        {
            "cell_type": "code",
            "execution_count": 10,
            "source": [
                "def mult_by_five(x):\r\n",
                "    return 5 * x\r\n",
                "\r\n",
                "def call(fn, arg):\r\n",
                "    return fn(arg)\r\n",
                "\r\n",
                "def square_call(fn, arg):\r\n",
                "    return fn(fn(arg))\r\n",
                "\r\n",
                "print(\r\n",
                "    mult_by_five(1),\r\n",
                "    call(mult_by_five, 1),\r\n",
                "    square_call(mult_by_five,1),\r\n",
                "    sep = '\\n',\r\n",
                ")"
            ],
            "outputs": [
                {
                    "output_type": "stream",
                    "name": "stdout",
                    "text": [
                        "5\n",
                        "5\n",
                        "25\n"
                    ]
                }
            ],
            "metadata": {}
        },
        {
            "cell_type": "code",
            "execution_count": 12,
            "source": [
                "a = (1, 5, 3, 9)\r\n",
                "x = max(a)\r\n",
                "print(x)"
            ],
            "outputs": [
                {
                    "output_type": "stream",
                    "name": "stdout",
                    "text": [
                        "9\n"
                    ]
                }
            ],
            "metadata": {}
        },
        {
            "cell_type": "code",
            "execution_count": 22,
            "source": [
                "def mod_5 (x):\r\n",
                "    return x % 5\r\n",
                "\r\n",
                "print(\r\n",
                "    max(100, 51, 14),\r\n",
                "    max(100, 51, 14, key=mod_5),\r\n",
                "    sep = '\\n',\r\n",
                ")\r\n",
                "print(\r\n",
                "    mod_5(100),\r\n",
                "    mod_5(51),\r\n",
                "    mod_5(14),\r\n",
                "    sep='\\n',\r\n",
                ")\r\n"
            ],
            "outputs": [
                {
                    "output_type": "stream",
                    "name": "stdout",
                    "text": [
                        "100\n",
                        "14\n",
                        "0\n",
                        "1\n",
                        "4\n"
                    ]
                }
            ],
            "metadata": {}
        },
        {
            "cell_type": "code",
            "execution_count": null,
            "source": [
                "def round_to_two_places(num):\r\n",
                "    return(round(num))\r\n",
                "    \"\"\"Return the given number rounded to two decimal places. \r\n",
                "    \r\n",
                "    >>> round_to_two_places(3.14159)\r\n",
                "    3.14\r\n",
                "    \"\"\"\r\n",
                "    # Replace this body with your own code.\r\n",
                "    # (\"pass\" is a keyword that does literally nothing. We used it as a placeholder\r\n",
                "    # because after we begin a code block, Python requires at least one line of code)\r\n",
                "    print(round_to_two_places(3.14))\r\n",
                "    pass"
            ],
            "outputs": [],
            "metadata": {}
        },
        {
            "cell_type": "code",
            "execution_count": null,
            "source": [
                "def wants_plain_hotdog(ketchup, mustard, onion):\r\n",
                "    \"\"\"Return whether the customer wants a plain hot dog with no toppings\r\n",
                "    \"\"\"\r\n",
                "    return not(ketchup or mustard or onion)\r\n",
                "    pass"
            ],
            "outputs": [],
            "metadata": {}
        },
        {
            "cell_type": "code",
            "execution_count": 4,
            "source": [
                "name = [\"MJ\", \"Bom\", \"Mook\", \"Mangpor\", \"Mark\"]\r\n",
                "x = name.index('MJ')\r\n",
                "print(x)"
            ],
            "outputs": [
                {
                    "output_type": "stream",
                    "name": "stdout",
                    "text": [
                        "0\n"
                    ]
                }
            ],
            "metadata": {}
        },
        {
            "cell_type": "code",
            "execution_count": 10,
            "source": [
                "s = 'steganograpHy is the practicE of conceaLing a file, message, image, or video within another fiLe, message, image, Or video.'\r\n",
                "msg = ''\r\n",
                "# print all the uppercase letters in s, one at a time\r\n",
                "for char in s:\r\n",
                "    if char.isupper():\r\n",
                "        print(char, end=' ')"
            ],
            "outputs": [
                {
                    "output_type": "stream",
                    "name": "stdout",
                    "text": [
                        "H E L L O "
                    ]
                }
            ],
            "metadata": {}
        },
        {
            "cell_type": "code",
            "execution_count": 15,
            "source": [
                "squares = [n**2 for n in range(10)]\r\n",
                "print(squares,type(squares))"
            ],
            "outputs": [
                {
                    "output_type": "stream",
                    "name": "stdout",
                    "text": [
                        "[0, 1, 4, 9, 16, 25, 36, 49, 64, 81] <class 'list'>\n"
                    ]
                }
            ],
            "metadata": {}
        },
        {
            "cell_type": "code",
            "execution_count": 18,
            "source": [
                "data = [\"mj\",\"rei\", \"Jatesada\", \"Pawaris\", \"asuka\", \"Thanat\"]\r\n",
                "new_data = []\r\n",
                "\r\n",
                "for name in data:\r\n",
                "    if len(name) <= 5:\r\n",
                "        new_data.append(name.upper() + \"!\")\r\n",
                "\r\n",
                "new_data\r\n",
                "        "
            ],
            "outputs": [
                {
                    "output_type": "execute_result",
                    "data": {
                        "text/plain": [
                            "['MJ!', 'REI!', 'ASUKA!']"
                        ]
                    },
                    "metadata": {},
                    "execution_count": 18
                }
            ],
            "metadata": {}
        },
        {
            "cell_type": "code",
            "execution_count": 20,
            "source": [
                "data = [\"mj\",\"rei\", \"Jatesada\", \"Pawaris\", \"asuka\", \"Thanat\"]\r\n",
                "\r\n",
                "new_data = [name.upper() + \"!\" for name in data if len(name) <= 5]\r\n",
                "\r\n",
                "new_data"
            ],
            "outputs": [
                {
                    "output_type": "execute_result",
                    "data": {
                        "text/plain": [
                            "['MJ!', 'REI!', 'ASUKA!']"
                        ]
                    },
                    "metadata": {},
                    "execution_count": 20
                }
            ],
            "metadata": {}
        },
        {
            "cell_type": "code",
            "execution_count": 28,
            "source": [
                "i = 0\r\n",
                "while i < 11:\r\n",
                "    print(i, end=\" \")\r\n",
                "    i = i + 1"
            ],
            "outputs": [
                {
                    "output_type": "stream",
                    "name": "stdout",
                    "text": [
                        "0 1 2 3 4 5 6 7 8 9 10 "
                    ]
                }
            ],
            "metadata": {}
        },
        {
            "cell_type": "code",
            "execution_count": null,
            "source": [],
            "outputs": [],
            "metadata": {}
        },
        {
            "cell_type": "code",
            "execution_count": 25,
            "source": [
                "num = 1,2,3,4,5\r\n",
                "print(num, sep=\" \")"
            ],
            "outputs": [
                {
                    "output_type": "stream",
                    "name": "stdout",
                    "text": [
                        "(1, 2, 3, 4, 5)\n"
                    ]
                }
            ],
            "metadata": {}
        },
        {
            "cell_type": "code",
            "execution_count": 6,
            "source": [
                "datestr = '1956-01-31'\r\n",
                "\r\n",
                "year, month, date = datestr.split('-')\r\n",
                "\r\n",
                "print(year,type(year))\r\n",
                "print(month)\r\n",
                "print(date)"
            ],
            "outputs": [
                {
                    "output_type": "stream",
                    "name": "stdout",
                    "text": [
                        "1956 <class 'str'>\n",
                        "01\n",
                        "31\n"
                    ]
                }
            ],
            "metadata": {}
        },
        {
            "cell_type": "code",
            "execution_count": 7,
            "source": [
                "numbers = {'one':1, 'two':2, 'three':3}"
            ],
            "outputs": [],
            "metadata": {}
        },
        {
            "cell_type": "code",
            "execution_count": 9,
            "source": [
                "numbers['two']\r\n",
                "numbers['twelve'] = 12\r\n",
                "numbers"
            ],
            "outputs": [
                {
                    "output_type": "execute_result",
                    "data": {
                        "text/plain": [
                            "{'one': 1, 'two': 2, 'three': 3, 'twelve': 12}"
                        ]
                    },
                    "metadata": {},
                    "execution_count": 9
                }
            ],
            "metadata": {}
        },
        {
            "cell_type": "code",
            "execution_count": 12,
            "source": [
                "txt = \"banana\"\r\n",
                "\r\n",
                "x = txt.rjust(20, \"O\")\r\n",
                "\r\n",
                "print(x)"
            ],
            "outputs": [
                {
                    "output_type": "stream",
                    "name": "stdout",
                    "text": [
                        "OOOOOOOOOOOOOObanana\n"
                    ]
                }
            ],
            "metadata": {}
        },
        {
            "cell_type": "code",
            "execution_count": null,
            "source": [
                "for i in rangr"
            ],
            "outputs": [],
            "metadata": {}
        },
        {
            "cell_type": "code",
            "execution_count": 10,
            "source": [
                "t = (\"12\")\r\n",
                "print(\r\n",
                "    t,\r\n",
                "    type(t),\r\n",
                "    hash(t[0] + t[1]),\r\n",
                "    sep=\"\\n\",\r\n",
                ")"
            ],
            "outputs": [
                {
                    "output_type": "stream",
                    "name": "stdout",
                    "text": [
                        "12\n",
                        "<class 'str'>\n",
                        "12957801357695187\n"
                    ]
                }
            ],
            "metadata": {}
        },
        {
            "cell_type": "code",
            "execution_count": null,
            "source": [],
            "outputs": [],
            "metadata": {}
        }
    ],
    "metadata": {
        "orig_nbformat": 4,
        "language_info": {
            "name": "python",
            "version": "3.9.2",
            "mimetype": "text/x-python",
            "codemirror_mode": {
                "name": "ipython",
                "version": 3
            },
            "pygments_lexer": "ipython3",
            "nbconvert_exporter": "python",
            "file_extension": ".py"
        },
        "kernelspec": {
            "name": "python3",
            "display_name": "Python 3.9.2 64-bit"
        },
        "interpreter": {
            "hash": "e9c86c43a356a27dd221d3bc44ba6fccb321acf27d5ba56e5552409ba7544a0e"
        }
    },
    "nbformat": 4,
    "nbformat_minor": 2
}