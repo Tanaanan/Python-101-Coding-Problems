{
  "nbformat": 4,
  "nbformat_minor": 0,
  "metadata": {
    "colab": {
      "name": "COM_PSU.ipynb",
      "provenance": [],
      "collapsed_sections": []
    },
    "kernelspec": {
      "name": "python3",
      "display_name": "Python 3"
    },
    "language_info": {
      "name": "python"
    },
    "accelerator": "GPU"
  },
  "cells": [
    {
      "cell_type": "markdown",
      "metadata": {
        "id": "EWCkNudMkiNa"
      },
      "source": [
        "ธนอนันท์ เฉลิมพันธ์ 5/3 40 23974"
      ]
    },
    {
      "cell_type": "markdown",
      "metadata": {
        "id": "Q9qCacl9HOEZ"
      },
      "source": [
        "Code cell --> เอาไว้สำหรับ เขียนโปรแกรม\n",
        "\n",
        "สามารถกด รัน เพื่อให้คอมพิวเตอร์ตีความ (interpret) แล้วดูผลลัพธ์\n",
        "\n",
        "Text cell --> เอาไว้สำหรับ เขียนข้อความ ซึ่งไม่มีผลต่อโปรแกรมของเรา\n",
        "\n"
      ]
    },
    {
      "cell_type": "markdown",
      "metadata": {
        "id": "zdQzJ09Qkbwg"
      },
      "source": [
        ""
      ]
    },
    {
      "cell_type": "code",
      "metadata": {
        "colab": {
          "base_uri": "https://localhost:8080/"
        },
        "id": "JwjTYs-mGJko",
        "outputId": "a93454c4-ac84-4ba7-8760-fdf0a0e30d1d"
      },
      "source": [
        "import sys\n",
        "print('MyTEST_00: Print Python Version Informaiton ')\n",
        "v = sys.version\n",
        "print('This is Python Version: ', v)\n",
        "vinfo = sys.version_info\n",
        "# print('Version_Information Tuple:', vinfo)\n",
        "# String Concatenation \n",
        "strPVInfo = 'Python ' + str(vinfo.major) +'.'+ str(vinfo.minor) + '.' + str(vinfo.micro) \n",
        "strPVInfo += ' (Release: ' + vinfo[3] +')'\n",
        "print('\\nPython Version Info: ',strPVInfo)\n",
        "print('End.')\n"
      ],
      "execution_count": 2,
      "outputs": [
        {
          "output_type": "stream",
          "name": "stdout",
          "text": [
            "MyTEST_00: Print Python Version Informaiton \n",
            "This is Python Version:  3.7.12 (default, Sep 10 2021, 00:21:48) \n",
            "[GCC 7.5.0]\n",
            "\n",
            "Python Version Info:  Python 3.7.12 (Release: final)\n",
            "End.\n"
          ]
        }
      ]
    },
    {
      "cell_type": "code",
      "metadata": {
        "colab": {
          "base_uri": "https://localhost:8080/"
        },
        "id": "2408-y_4U3Ce",
        "outputId": "9bce847a-6040-46c9-ed52-500cf261da5b"
      },
      "source": [
        "import sys\n",
        "print('sys.float_info = ',sys.float_info)\n",
        "print('sys.int_info = ',sys.int_info)\n"
      ],
      "execution_count": 66,
      "outputs": [
        {
          "output_type": "stream",
          "name": "stdout",
          "text": [
            "sys.float_info =  sys.float_info(max=1.7976931348623157e+308, max_exp=1024, max_10_exp=308, min=2.2250738585072014e-308, min_exp=-1021, min_10_exp=-307, dig=15, mant_dig=53, epsilon=2.220446049250313e-16, radix=2, rounds=1)\n",
            "sys.int_info =  sys.int_info(bits_per_digit=30, sizeof_digit=4)\n"
          ]
        }
      ]
    },
    {
      "cell_type": "code",
      "metadata": {
        "colab": {
          "base_uri": "https://localhost:8080/"
        },
        "id": "1NOM-67ZLylP",
        "outputId": "1c0961a5-ef0b-41f2-a4a9-68db1d6089d4"
      },
      "source": [
        "c = 1\n",
        "a = 2021\n",
        "b = \"MJ\"\n",
        "print(\"Hello {} in {}\".format(b,a))\n",
        "print(f\"Hello {b} in {a+c}\")"
      ],
      "execution_count": 45,
      "outputs": [
        {
          "output_type": "stream",
          "name": "stdout",
          "text": [
            "Hello MJ in 2021\n",
            "Hello MJ in 2022\n"
          ]
        }
      ]
    },
    {
      "cell_type": "code",
      "metadata": {
        "colab": {
          "base_uri": "https://localhost:8080/"
        },
        "id": "qu5kMqU4Ifwt",
        "outputId": "61999b6f-0815-4bac-ac99-5c12e06a8ebd"
      },
      "source": [
        "x, y, z = [int(e) for e in  input(\"\").split()] #Read 3 int var\n",
        "\n",
        "Average = x+y+z\n",
        "Average"
      ],
      "execution_count": 42,
      "outputs": [
        {
          "name": "stdout",
          "output_type": "stream",
          "text": [
            "12 21 22\n"
          ]
        },
        {
          "output_type": "execute_result",
          "data": {
            "text/plain": [
              "55"
            ]
          },
          "metadata": {},
          "execution_count": 42
        }
      ]
    },
    {
      "cell_type": "code",
      "metadata": {
        "colab": {
          "base_uri": "https://localhost:8080/"
        },
        "id": "2uWpRnrvNTNv",
        "outputId": "cc15aee9-eb2b-4902-ddb0-843fa63ba736"
      },
      "source": [
        "a = 13.35\n",
        "b = 25.11\n",
        "st1 = \"abcd\"\n",
        "st2 = 'xyz'\n",
        "print(F' st1=\"{st1}\", st2=\"{st2}\" ')\n",
        "print(F'a+b = {a+b}')  \n",
        "print(F\"st1+st2 = '{st1+st2}' \")\n",
        "print(F'3*st1 = {3*st1}')\n"
      ],
      "execution_count": 44,
      "outputs": [
        {
          "output_type": "stream",
          "name": "stdout",
          "text": [
            " st1=\"abcd\", st2=\"xyz\" \n",
            "a+b = 38.46\n",
            "st1+st2 = 'abcdxyz' \n",
            "3*st1 = abcdabcdabcd\n"
          ]
        }
      ]
    },
    {
      "cell_type": "code",
      "metadata": {
        "colab": {
          "base_uri": "https://localhost:8080/"
        },
        "id": "1Dl4l6Y2N3UF",
        "outputId": "c828fa9b-e0d7-47b3-ade6-7c0a15243974"
      },
      "source": [
        "data = list(input(\"\").split()) //split by using space\n",
        "data"
      ],
      "execution_count": 50,
      "outputs": [
        {
          "name": "stdout",
          "output_type": "stream",
          "text": [
            "mj saly joh dad mom\n"
          ]
        },
        {
          "output_type": "execute_result",
          "data": {
            "text/plain": [
              "['mj', 'saly', 'joh', 'dad', 'mom']"
            ]
          },
          "metadata": {},
          "execution_count": 50
        }
      ]
    },
    {
      "cell_type": "code",
      "metadata": {
        "colab": {
          "base_uri": "https://localhost:8080/"
        },
        "id": "NK61UyhPPCXg",
        "outputId": "889827eb-df5c-48e5-e820-6823eb29d835"
      },
      "source": [
        "p1, p2, p3, p4, p5 = [str(e) for e in input(\"\").split()] #jate bom mark thanat mj\n",
        "print(p1, p2, p3, p4, p5)\n",
        "print(p3+p5)"
      ],
      "execution_count": 54,
      "outputs": [
        {
          "output_type": "stream",
          "name": "stdout",
          "text": [
            "jate bom mark thanat mj\n",
            "jate bom mark thanat mj\n",
            "markmj\n"
          ]
        }
      ]
    },
    {
      "cell_type": "markdown",
      "metadata": {
        "id": "sByOda8VRuw8"
      },
      "source": [
        "แบบฝึก Page 7 -9 เรียงตามข้่อ"
      ]
    },
    {
      "cell_type": "code",
      "metadata": {
        "colab": {
          "base_uri": "https://localhost:8080/"
        },
        "id": "RGAR5V9MQCY0",
        "outputId": "b5c7c7a1-7089-4e6a-8b58-b61040bcbb7f"
      },
      "source": [
        "h = int(input(\"hour =\"))\n",
        "m = int(input(\"min =\"))\n",
        "s = int(input(\"sec = \"))\n",
        "\n",
        "Sec_cal = (h*60*60)+(m*60)+s\n",
        "print(f\"{Sec_cal} sec\")"
      ],
      "execution_count": 64,
      "outputs": [
        {
          "output_type": "stream",
          "name": "stdout",
          "text": [
            "hour =1\n",
            "min =20\n",
            "sec = 10\n",
            "4810 sec\n"
          ]
        }
      ]
    },
    {
      "cell_type": "code",
      "metadata": {
        "colab": {
          "base_uri": "https://localhost:8080/"
        },
        "id": "Az1I5gCwRukS",
        "outputId": "c559b4dd-bc95-4b54-8744-fd96fcc691db"
      },
      "source": [
        "import math \n",
        "\n",
        "data = int(input(\"\"))\n",
        "\n",
        "y = ((2-data)+((3/7)*(data**2))-((5/11)*(data**3))+math.log(data, 10))\n",
        "y"
      ],
      "execution_count": 65,
      "outputs": [
        {
          "name": "stdout",
          "output_type": "stream",
          "text": [
            "20\n"
          ]
        },
        {
          "output_type": "execute_result",
          "data": {
            "text/plain": [
              "-3481.6340349394004"
            ]
          },
          "metadata": {},
          "execution_count": 65
        }
      ]
    },
    {
      "cell_type": "code",
      "metadata": {
        "colab": {
          "base_uri": "https://localhost:8080/"
        },
        "id": "yXWwYt91Ujv5",
        "outputId": "16f01336-fc60-41a8-a3fc-0129def165f1"
      },
      "source": [
        "a = int(input(\"\"))\n",
        "x = 1\n",
        "x = ((x + a/x)/2)*4\n",
        "print(x)"
      ],
      "execution_count": 69,
      "outputs": [
        {
          "output_type": "stream",
          "name": "stdout",
          "text": [
            "20\n",
            "42.0\n"
          ]
        }
      ]
    },
    {
      "cell_type": "code",
      "metadata": {
        "colab": {
          "base_uri": "https://localhost:8080/"
        },
        "id": "Q07ignGqVhQL",
        "outputId": "e05cd128-eae4-4b10-9d15-68b8f766ac35"
      },
      "source": [
        "v1, v2, v3 = [int(m) for m in input(\"\").split(\" \")]\n",
        "u1, u2, u3 = [int(n) for n in input(\"\").split(\" \")]\n",
        "\n",
        "dot_product = ((v1*u1)+(v2*u2)+(v3*u3))\n",
        "dot_product\n"
      ],
      "execution_count": 71,
      "outputs": [
        {
          "name": "stdout",
          "output_type": "stream",
          "text": [
            "4 1 -2\n",
            "1 -2 -3\n"
          ]
        },
        {
          "output_type": "execute_result",
          "data": {
            "text/plain": [
              "8"
            ]
          },
          "metadata": {},
          "execution_count": 71
        }
      ]
    },
    {
      "cell_type": "code",
      "metadata": {
        "colab": {
          "base_uri": "https://localhost:8080/"
        },
        "id": "v5ss5AAjW0Ak",
        "outputId": "2f31cfe0-8576-4fbe-ed1a-863e06111560"
      },
      "source": [
        "import math as mt\n",
        "x1, y1, x2, y2 = [int(o) for o in input(\"\").split(\" \")]\n",
        "\n",
        "d = mt.sqrt( ((x1-x2)**2) + (y1 - y2)**2 )\n",
        "d\n"
      ],
      "execution_count": 73,
      "outputs": [
        {
          "name": "stdout",
          "output_type": "stream",
          "text": [
            "-1 3 -2 -4\n"
          ]
        },
        {
          "output_type": "execute_result",
          "data": {
            "text/plain": [
              "7.0710678118654755"
            ]
          },
          "metadata": {},
          "execution_count": 73
        }
      ]
    },
    {
      "cell_type": "code",
      "metadata": {
        "colab": {
          "base_uri": "https://localhost:8080/"
        },
        "id": "EnbgtQj0YQ29",
        "outputId": "47053e94-456c-4d4c-8577-5ddb05a27e32"
      },
      "source": [
        "import math as m\n",
        "r, theta = [int(f) for f in input(\"\").split(\" \")]\n",
        "\n",
        "radius = ((theta)*m.pi)/180\n",
        "\n",
        "Cal_x = r*(m.cos(radius))\n",
        "Cal_y = r*(m.sin(radius))\n",
        "print(f\"{Cal_x} {Cal_y}\")"
      ],
      "execution_count": 83,
      "outputs": [
        {
          "output_type": "stream",
          "name": "stdout",
          "text": [
            "2 3\n",
            "1.9972590695091477 0.10467191248588766\n"
          ]
        }
      ]
    },
    {
      "cell_type": "code",
      "metadata": {
        "colab": {
          "base_uri": "https://localhost:8080/"
        },
        "id": "RgzuOnxnYQsQ",
        "outputId": "fe4f9208-f771-4027-e47e-02e3098a4704"
      },
      "source": [
        "import math as m\n",
        "x, y = [int(j) for j in input(\"\").split(\" \")]\n",
        "\n",
        "r = m.sqrt(x**2 + y**2)\n",
        "\n",
        "theta = m.atan( y / x)\n",
        "\n",
        "print(f\"{r} {theta}\")\n",
        "\n"
      ],
      "execution_count": 100,
      "outputs": [
        {
          "output_type": "stream",
          "name": "stdout",
          "text": [
            "3 5\n",
            "5.830951894845301 1.0303768265243125\n"
          ]
        }
      ]
    },
    {
      "cell_type": "code",
      "metadata": {
        "colab": {
          "base_uri": "https://localhost:8080/"
        },
        "id": "gZxqzE35ejIY",
        "outputId": "885f6e1a-c5e4-49c3-d53a-0d78691b946f"
      },
      "source": [
        "n1, n2, n3, n4, n5 = [int(x) for x in input(\"\").split(\" \")]\n",
        "\n",
        "Average = (n1+n2+n3+n4+n5) / 5\n",
        "Average"
      ],
      "execution_count": 84,
      "outputs": [
        {
          "name": "stdout",
          "output_type": "stream",
          "text": [
            "1 2 3 4 5\n"
          ]
        },
        {
          "output_type": "execute_result",
          "data": {
            "text/plain": [
              "3.0"
            ]
          },
          "metadata": {},
          "execution_count": 84
        }
      ]
    },
    {
      "cell_type": "code",
      "metadata": {
        "colab": {
          "base_uri": "https://localhost:8080/",
          "height": 52
        },
        "id": "qZUsAbVHe6_1",
        "outputId": "b4871995-1063-48da-b011-5e1a164b4a7c"
      },
      "source": [
        "a, b, c = [str(z) for z in input(\"\").split(\" \")]\n",
        "c= int(c)\n",
        "\n",
        "Result = (a+b)*c\n",
        "Result\n",
        "\n"
      ],
      "execution_count": 94,
      "outputs": [
        {
          "name": "stdout",
          "output_type": "stream",
          "text": [
            "v o 5\n"
          ]
        },
        {
          "output_type": "execute_result",
          "data": {
            "application/vnd.google.colaboratory.intrinsic+json": {
              "type": "string"
            },
            "text/plain": [
              "'vovovovovo'"
            ]
          },
          "metadata": {},
          "execution_count": 94
        }
      ]
    },
    {
      "cell_type": "code",
      "metadata": {
        "colab": {
          "base_uri": "https://localhost:8080/"
        },
        "id": "3aT5y0IulK2z",
        "outputId": "24fc263b-6901-4d7a-a7aa-1b25c76bbaf5"
      },
      "source": [
        "data = input(\"Enter Question :\").split(\" \")\n",
        "print(f\"data = {data}\")\n",
        "answer = input(\"Enter Answer :\").split(\" \")\n",
        "print(f\"answer = {answer}\")"
      ],
      "execution_count": 102,
      "outputs": [
        {
          "output_type": "stream",
          "name": "stdout",
          "text": [
            "Enter Question :cat dog ant fox mouse shark\n",
            "data = ['cat', 'dog', 'ant', 'fox', 'mouse', 'shark']\n",
            "Enter Answer :แมว หมา มด จิ้งจอก หนุ ฉลาม\n",
            "answer = ['แมว', 'หมา', 'มด', 'จิ้งจอก', 'หนุ', 'ฉลาม']\n"
          ]
        }
      ]
    },
    {
      "cell_type": "code",
      "metadata": {
        "colab": {
          "base_uri": "https://localhost:8080/"
        },
        "id": "2CJwyLi3gIgN",
        "outputId": "66ebb520-6a40-4c0a-a92d-5e4e866f6964"
      },
      "source": [
        "word_eng = [\"cat\", \"dog\", \"ant\", \"fox\", \"mouse\", \"shark\"]\n",
        "word_thai = ['แมว', 'หมา', 'มด', 'จิ้งจอก', 'หนู', 'ฉลาม']\n",
        "len_word = len(word_eng)\n",
        "\n",
        "def TypingWord_Learn():\n",
        "    i = 0\n",
        "    score = 0\n",
        "    mode = 0\n",
        "\n",
        "    while True:\n",
        "        print(\"Select mode Thai-Eng(1) or Eng-Thai (2)\")\n",
        "        mode = int(input(\"Mode Select : \"))\n",
        "        if mode == 1:\n",
        "            print(\"Thai-Eng Selected\")\n",
        "            break\n",
        "        elif mode == 2:\n",
        "            print(\"Eng-Thai Selected\")\n",
        "            break\n",
        "        else:\n",
        "            print(\"Please try again\")\n",
        "    \n",
        "    while i < len_word:\n",
        "        if mode == 2:\n",
        "            print(f'{word_eng[i]} == ?')\n",
        "            answer = str(input(\"Answer : \"))\n",
        "            answer = answer.lower().strip()\n",
        "            if answer == word_thai[i]:\n",
        "                print(\"Correct! (score +1)\")\n",
        "                score = score + 1\n",
        "                i = i + 1\n",
        "            else:\n",
        "                print(\"Wrong, Try again!\")\n",
        "        elif mode == 1:\n",
        "            print(f'{word_thai[i]} == ?')\n",
        "            answer = str(input(\"Answer : \"))\n",
        "            answer = answer.lower().strip()\n",
        "            if answer == word_eng[i]:\n",
        "                print(\"Correct! (score +1)\")\n",
        "                score = score + 1\n",
        "                i = i + 1\n",
        "            else:\n",
        "                print(\"Wrong, Try again!\")\n",
        "    print(f'Total score = {score} / {len_word}')\n",
        "\n",
        "def TypingWord_Test():\n",
        "    score = 0\n",
        "    mode = 0\n",
        "    Error = []\n",
        "    player_ans = []\n",
        "\n",
        "    while True:\n",
        "        print(\"Select mode Thai-Eng(1) or Eng-Thai (2)\")\n",
        "        mode = int(input(\"Mode Select : \"))\n",
        "        if mode == 1:\n",
        "            print(\"Thai-Eng Selected\")\n",
        "            break\n",
        "        elif mode == 2:\n",
        "            print(\"Eng-Thai Selected\")\n",
        "            break\n",
        "        else:\n",
        "            print(\"Please try again\")\n",
        "    \n",
        "    for m in range(len_word):\n",
        "        if mode == 2: #Eng Thai\n",
        "            print(f'{word_eng[m]} == ?')\n",
        "            answer = str(input(\"Answer : \"))\n",
        "            answer = answer.lower().strip()\n",
        "            if answer == word_thai[m]:\n",
        "                print(\"Correct! (score +1)\")\n",
        "                score = score + 1\n",
        "                Error.append(0)\n",
        "                player_ans.append(answer)\n",
        "            else:\n",
        "                print(\"Wrong!\")\n",
        "                Error.append(1)\n",
        "                player_ans.append(answer)\n",
        "        elif mode == 1: #Thai Eng\n",
        "            print(f'{word_thai[m]} == ?')\n",
        "            answer = str(input(\"Answer : \"))\n",
        "            answer = answer.lower().strip()\n",
        "            if answer == word_eng[m]:\n",
        "                print(\"Correct! (score +1)\")\n",
        "                score = score + 1\n",
        "                Error.append(0)\n",
        "                player_ans.append(answer)\n",
        "            else:\n",
        "                print(\"Wrong!\")\n",
        "                Error.append(1)\n",
        "                player_ans.append(answer)\n",
        "\n",
        "    print(\"---------------------------------------------------------\")\n",
        "    CorrectRate = (100*score) / len_word\n",
        "    print(f\"Solution | CorrectRate = {int(CorrectRate)} %\")\n",
        "    print(f'Total score = {score} / {len_word}')\n",
        "    print(\"---------------------------------------------------------\")\n",
        "\n",
        "    \n",
        "    for k in range(len(Error)): #Correct\n",
        "        if Error[k] == 1:\n",
        "            print(f\"Wrong! : {word_eng[k]} = {word_thai[k]} ({player_ans[k]})\")\n",
        "\n",
        "    print(\"---------------------------------------------------------\")\n",
        "\n",
        "    for j in range(len(Error)): #Correct\n",
        "        if Error[j] == 0:\n",
        "            print(f\"Correct : {word_eng[j]} = {word_thai[j]}\")\n",
        "\n",
        "print(\"\"\"Enter Mode \n",
        "1. Practice Mode\n",
        "2. Test Mode\"\"\")\n",
        "ModeSelect = (int(input(\":\")))\n",
        "\n",
        "if ModeSelect == 1:\n",
        "    TypingWord_Learn()\n",
        "elif ModeSelect == 2:\n",
        "    TypingWord_Test()\n",
        "else:\n",
        "    print(\"Error, try again\")\n",
        "\n",
        "\n",
        "        \n",
        "\n",
        "\n",
        "\n",
        "\n",
        "\n",
        "\n",
        "                \n",
        "                    \n",
        "\n",
        "        \n",
        "        \n",
        "    \n",
        "    \n",
        "\n",
        "\n",
        "\n",
        "    \n",
        "\n",
        "\n",
        "\n",
        "\n",
        "        \n"
      ],
      "execution_count": 103,
      "outputs": [
        {
          "output_type": "stream",
          "name": "stdout",
          "text": [
            "Enter Mode \n",
            "1. Practice Mode\n",
            "2. Test Mode\n",
            ":2\n",
            "Select mode Thai-Eng(1) or Eng-Thai (2)\n",
            "Mode Select : 1\n",
            "Thai-Eng Selected\n",
            "แมว == ?\n",
            "Answer : cat\n",
            "Correct! (score +1)\n",
            "หมา == ?\n",
            "Answer : doo\n",
            "Wrong!\n",
            "มด == ?\n",
            "Answer : ant\n",
            "Correct! (score +1)\n",
            "จิ้งจอก == ?\n",
            "Answer : fox\n",
            "Correct! (score +1)\n",
            "หนู == ?\n",
            "Answer : rat\n",
            "Wrong!\n",
            "ฉลาม == ?\n",
            "Answer : shark\n",
            "Correct! (score +1)\n",
            "---------------------------------------------------------\n",
            "Solution | CorrectRate = 66 %\n",
            "Total score = 4 / 6\n",
            "---------------------------------------------------------\n",
            "Wrong! : dog = หมา (doo)\n",
            "Wrong! : mouse = หนู (rat)\n",
            "---------------------------------------------------------\n",
            "Correct : cat = แมว\n",
            "Correct : ant = มด\n",
            "Correct : fox = จิ้งจอก\n",
            "Correct : shark = ฉลาม\n"
          ]
        }
      ]
    }
  ]
}