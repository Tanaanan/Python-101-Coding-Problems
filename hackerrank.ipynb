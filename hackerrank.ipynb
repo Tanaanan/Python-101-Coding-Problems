{
    "cells": [
        {
            "cell_type": "code",
            "execution_count": 2,
            "metadata": {},
            "outputs": [
                {
                    "name": "stdout",
                    "output_type": "stream",
                    "text": [
                        "12345678910\n"
                    ]
                }
            ],
            "source": [
                "def digit(numba):\n",
                "    answer = [] # empty string to kept data\n",
                "    for i in range(1,numba+1):\n",
                "        answer.append(i)\n",
                "    answer = str(answer).replace(',','').replace('[','').replace(']','').replace(' ','')\n",
                "    # remove ',','[',']',' ' from list to str\n",
                "    return answer\n",
                "\n",
                "a = int(input(\"\"))\n",
                "print(digit(a)) "
            ]
        },
        {
            "cell_type": "markdown",
            "metadata": {},
            "source": [
                "done ^"
            ]
        },
        {
            "cell_type": "code",
            "execution_count": null,
            "metadata": {},
            "outputs": [
                {
                    "name": "stdout",
                    "output_type": "stream",
                    "text": [
                        "+91 78954 62130\n"
                    ]
                }
            ],
            "source": [
                "def mobilenum(numba):\n",
                "    telephone_list = []\n",
                "    len_tele = []\n",
                "    ans = []\n",
                "    \n",
                "    for i in range(1,numba+1): #kept data\n",
                "        b = input(\"\")\n",
                "        telephone_list.append(b)\n",
                "    \n",
                "    for m in telephone_list:\n",
                "        len_tele.append(len(m))\n",
                "    \n",
                "    #print(telephone_list)\n",
                "    #print(len_tele)\n",
                "    \n",
                "    for j in range(len(telephone_list)):\n",
                "        return(\"+91 {}\".format(telephone_list[j][(len_tele[j] - 10) : -5] + \" \" \n",
                "        + telephone_list[j][-5 : ]))\n",
                "    \n",
                "a = int(input(\"\"))\n",
                "print(mobilenum(a)) \n",
                "\n"
            ]
        },
        {
            "cell_type": "markdown",
            "metadata": {},
            "source": [
                "code tele ^"
            ]
        },
        {
            "cell_type": "code",
            "execution_count": null,
            "metadata": {},
            "outputs": [
                {
                    "name": "stdout",
                    "output_type": "stream",
                    "text": [
                        "{'string0': '1234555', 'string1': '22222222222', 'string2': 'abcdedf'}\n",
                        "1234555\n",
                        "7\n",
                        "<class 'str'>\n"
                    ]
                }
            ],
            "source": [
                "a = ['1234555','22222222222', 'abcdedf'] # เก็บค่าตัวแปรโดยใช้ loop\n",
                "b = {} # dictionary to kept a data\n",
                "for x in range(len(a)):\n",
                "    #print(\"string\" + str(x) + \" = \" + a[x])\n",
                "    b[\"string{0}\".format(x)] = a[x]\n",
                "\n",
                "print(b)\n",
                "print(b['string0'])\n",
                "print(len(b['string0']))\n",
                "print(type(b['string0']))\n"
            ]
        },
        {
            "cell_type": "markdown",
            "metadata": {},
            "source": [
                "kept data in loop ^"
            ]
        },
        {
            "cell_type": "code",
            "execution_count": null,
            "metadata": {},
            "outputs": [
                {
                    "name": "stdout",
                    "output_type": "stream",
                    "text": [
                        "Not Weird\n"
                    ]
                }
            ],
            "source": [
                "a = int(input(\"\"))\n",
                "\n",
                "if a % 2 == 0:\n",
                "    if a >= 2 and a <= 5:\n",
                "        print(\"Not Weird\")\n",
                "    elif a > 5 and a <= 20:\n",
                "        print(\"Weird\")\n",
                "    elif a > 20:\n",
                "        print(\"Not Weird\")\n",
                "elif a % 2 != 0:\n",
                "    print(\"Weird\")\n",
                "\n",
                "\n",
                "\n"
            ]
        },
        {
            "cell_type": "code",
            "execution_count": null,
            "metadata": {},
            "outputs": [
                {
                    "name": "stdout",
                    "output_type": "stream",
                    "text": [
                        "[8, 343, 1331, 4096]\n"
                    ]
                }
            ],
            "source": [
                "def f(x):\n",
                "    return x**3\n",
                "\n",
                "data = [2, 7, 11, 16]\n",
                "sum = []\n",
                "\n",
                "for x in data:\n",
                "    sum = sum + [f(x)]\n",
                "print(sum)"
            ]
        },
        {
            "cell_type": "code",
            "execution_count": null,
            "metadata": {},
            "outputs": [
                {
                    "name": "stdout",
                    "output_type": "stream",
                    "text": [
                        "[5, 10, 14, 19]\n",
                        "2    5\n",
                        "7    10\n",
                        "11    14\n",
                        "16    19\n"
                    ]
                }
            ],
            "source": [
                "def plus(x):\n",
                "    return x+3\n",
                "\n",
                "data = [2, 7, 11, 16]\n",
                "sumup = list(map(plus,data))\n",
                "print(sumup)\n",
                "\n",
                "for i in range(len(data)):\n",
                "    print(\"{}    {}\".format(data[i],sumup[i]))"
            ]
        },
        {
            "cell_type": "code",
            "execution_count": null,
            "metadata": {},
            "outputs": [
                {
                    "name": "stdout",
                    "output_type": "stream",
                    "text": [
                        "['1', '2', '3', '4', '5', '6']\n",
                        "123456\n"
                    ]
                }
            ],
            "source": [
                "data = \"1+2+3+4+5+6\"\n",
                "l_data = data.split('+')\n",
                "s_data = ''.join(l_data)\n",
                "print(l_data)\n",
                "print(s_data)"
            ]
        },
        {
            "cell_type": "code",
            "execution_count": 32,
            "metadata": {},
            "outputs": [
                {
                    "name": "stdout",
                    "output_type": "stream",
                    "text": [
                        "3 day 12 hr 20 min is 5060 min.\n"
                    ]
                }
            ],
            "source": [
                "T = list(input(\"\").split(\" \"))\n",
                "day = int(T[0])\n",
                "hr = int(T[1])\n",
                "minute = int(T[2]) \n",
                "min_sum = ((day*24*60)+(hr*60)+minute)\n",
                "print(\"{} day {} hr {} min is {} min.\".format(day,hr,minute,min_sum))\n",
                "\n"
            ]
        },
        {
            "cell_type": "code",
            "execution_count": 3,
            "metadata": {},
            "outputs": [
                {
                    "name": "stdout",
                    "output_type": "stream",
                    "text": [
                        "Zutomayo\n",
                        "9\n",
                        "Yamasuki\n"
                    ]
                }
            ],
            "source": [
                "class Tank:\n",
                "    def __init__(self, name, ammo):\n",
                "        self.name = name # self.name = ชื่อรถถัง name = ค่า parameter\n",
                "        self.ammo = ammo\n",
                "\n",
                "first_tank = Tank(\"Hiroshita\",3) \n",
                "first_tank.name = \"Zutomayo\"\n",
                "first_tank.ammo += 6\n",
                "second_tank = Tank(\"Yamasuki\",6)\n",
                "print(first_tank.name)\n",
                "print(first_tank.ammo)\n",
                "print(second_tank.name)"
            ]
        },
        {
            "cell_type": "code",
            "execution_count": 3,
            "metadata": {},
            "outputs": [
                {
                    "name": "stdout",
                    "output_type": "stream",
                    "text": [
                        "0\n",
                        "1\n",
                        "2\n",
                        "3\n",
                        "4\n"
                    ]
                }
            ],
            "source": [
                "loop_range = int(input(\"\"))\n",
                "\n",
                "data = []\n",
                "\n",
                "for i in range(loop_range):\n",
                "    print(i)"
            ]
        },
        {
            "cell_type": "code",
            "execution_count": 5,
            "metadata": {},
            "outputs": [
                {
                    "name": "stdout",
                    "output_type": "stream",
                    "text": [
                        "bom\n",
                        "mj\n",
                        "peach\n",
                        "[['jate', 10.0], ['mj', 20.0], ['bom', 20.0], ['peach', 20.0]]\n",
                        "{10.0, 20.0}\n",
                        "20.0\n",
                        "[10.0, 20.0]\n",
                        "['mj', 'bom', 'peach']\n"
                    ]
                }
            ],
            "source": [
                "data = []\n",
                "scores = set() # ถ้าใช้ list sort จะรวมตัวซํ้า แต่ถ้าใช้ set จะไม่รวมตัวซํ้า\n",
                "secondlow_scorename = []\n",
                "\n",
                "for i in range(int(input(\"\"))):\n",
                "    name = input(\"\")\n",
                "    score = float(input(\"\"))\n",
                "    data.append([name,score])\n",
                "    scores.add(score)\n",
                "\n",
                "sort_score = sorted(scores)\n",
                "\n",
                "for name, score in data:\n",
                "    if score == sort_score[1]:\n",
                "        secondlow_scorename.append(name)\n",
                "\n",
                "\n",
                "for name in sorted(secondlow_scorename):\n",
                "    print(name)\n",
                "\n",
                "print(data) #\n",
                "print(scores)\n",
                "print(score)\n",
                "print(sort_score)\n",
                "print(secondlow_scorename)\n",
                "\n"
            ]
        },
        {
            "cell_type": "code",
            "execution_count": 58,
            "metadata": {},
            "outputs": [
                {
                    "name": "stdout",
                    "output_type": "stream",
                    "text": [
                        "['3', '4', '5', '6', '7', '8', '9,'] <class 'list'>\n",
                        "7\n",
                        "3, 4, 5, 6, 7, 8, 9, <class 'str'>\n",
                        "20\n"
                    ]
                }
            ],
            "source": [
                "string = \"3, 4, 5, 6, 7, 8, 9,\" # .split can use to convert str to list\n",
                "string = string.split(\", \")\n",
                "print(string, type(string))\n",
                "print(len(string))\n",
                "\n",
                "string = \", \".join(string) # .join can also use to convert list to str too\n",
                "print(string, type(string))\n",
                "print(len(string))\n"
            ]
        },
        {
            "cell_type": "code",
            "execution_count": 13,
            "metadata": {},
            "outputs": [
                {
                    "name": "stdout",
                    "output_type": "stream",
                    "text": [
                        "[-50, 51] <class 'set'>\n",
                        "[-50, -50, 51] <class 'list'>\n"
                    ]
                }
            ],
            "source": [
                "thisset = {51, -50, -50} # set ไม่เก็บข้อมูลซํ้า ,\n",
                "thislist = [51, -50, -50] # sort เก็บข้อมูลซํ้า\n",
                "\n",
                "print(sorted(thisset), type(thisset))\n",
                "print(sorted(thislist), type(thislist))"
            ]
        },
        {
            "cell_type": "code",
            "execution_count": 85,
            "metadata": {},
            "outputs": [
                {
                    "name": "stdout",
                    "output_type": "stream",
                    "text": [
                        "2.00\n"
                    ]
                }
            ],
            "source": [
                "data = []\n",
                "name = []\n",
                "select = []\n",
                "\n",
                "for i in range(int(input(\" \"))):\n",
                "    receive = input(\" \").split(\" \")\n",
                "    data.append(receive)\n",
                "\n",
                "find_name = input(\" \")\n",
                "\n",
                "for j in range(len(data)):\n",
                "    if find_name in data[j]:\n",
                "        select.append(data[j])\n",
                "\n",
                "select = str(select)\n",
                "len_select = len(select)\n",
                "select = select[3:-3]\n",
                "select = select.split(\"', '\")\n",
                "\n",
                "sum = (float(select[1]) + float(select[2]) + float(select[3])) / 3\n",
                "print(\"{:.2f}\".format(sum))"
            ]
        },
        {
            "cell_type": "code",
            "execution_count": null,
            "metadata": {},
            "outputs": [],
            "source": [
                "N = int(input())\n",
                "List_P = []\n",
                "for i in range(N):\n",
                "    Person = str(input()).split(\" \")\n",
                "    List_P.append(Person)\n",
                "Target = str(input())\n",
                "Person = []\n",
                "Score = []\n",
                "for i,j in zip(List_P,range(3)):\n",
                "    for k in range(len(List_P[j])):\n",
                "        if k == 0:\n",
                "            Person.append(i[0])\n",
                "    Score.append(list(i[1:])) \n",
                "for i,j in zip(Person,Score):\n",
                "    if i == Target:\n",
                "        Final = (float(j[0]) +  float(j[1]) + float(j[2])) / 3\n",
                "print('{:.2f}'.format(Final))\n",
                "\n",
                "print(List_P)"
            ]
        },
        {
            "cell_type": "code",
            "execution_count": 37,
            "metadata": {},
            "outputs": [
                {
                    "data": {
                        "text/plain": [
                            "{'lst0': ['mj', '1', '2'], 'lst1': ['bom', '1', '2']}"
                        ]
                    },
                    "execution_count": 37,
                    "metadata": {},
                    "output_type": "execute_result"
                }
            ],
            "source": [
                "data\n",
                "data2"
            ]
        },
        {
            "cell_type": "code",
            "execution_count": 7,
            "metadata": {},
            "outputs": [
                {
                    "name": "stdout",
                    "output_type": "stream",
                    "text": [
                        "['1', '2', '3', '4', '5', '6', '7', '8'] <class 'list'>\n",
                        "1 2 3 4 5 6 7 8 "
                    ]
                }
            ],
            "source": [
                "data = \"1, 2, 3, 4, 5, 6, 7, 8\"\n",
                "data = data.split(\", \")\n",
                "print(data, type(data))\n",
                "for i in range(len(data)):\n",
                "    print(data[i], end=\" \")"
            ]
        },
        {
            "cell_type": "code",
            "execution_count": 15,
            "metadata": {},
            "outputs": [
                {
                    "data": {
                        "text/plain": [
                            "\"Pluto weighs about 1.303e+22 kilograms (0.2182% of Earth's mass). It is home to 52,910,390 Plutonians.\""
                        ]
                    },
                    "execution_count": 15,
                    "metadata": {},
                    "output_type": "execute_result"
                }
            ],
            "source": [
                "pluto_mass = 1.303 * 10**22\n",
                "earth_mass = 5.9722 * 10**24\n",
                "population = 52910390\n",
                "planet =\"Pluto\"\n",
                "#         2 decimal points   3 decimal points, format as percent     separate with commas\n",
                "\"{} weighs about {:.10} kilograms ({:.4%} of Earth's mass). It is home to {:,} Plutonians.\".format(\n",
                "    planet, pluto_mass, pluto_mass / earth_mass, population,\n",
                ")"
            ]
        },
        {
            "cell_type": "code",
            "execution_count": 27,
            "metadata": {},
            "outputs": [
                {
                    "name": "stdout",
                    "output_type": "stream",
                    "text": [
                        "3.1435\n"
                    ]
                }
            ],
            "source": [
                "pi = \"3.1435171251\"\n",
                "pi = float(pi)\n",
                "print(\"{:.4f}\".format(pi))"
            ]
        },
        {
            "cell_type": "code",
            "execution_count": 50,
            "metadata": {},
            "outputs": [
                {
                    "ename": "KeyboardInterrupt",
                    "evalue": "Interrupted by user",
                    "output_type": "error",
                    "traceback": [
                        "\u001b[1;31m---------------------------------------------------------------------------\u001b[0m",
                        "\u001b[1;31mKeyboardInterrupt\u001b[0m                         Traceback (most recent call last)",
                        "\u001b[1;32mC:\\Users\\HOLYFA~1\\AppData\\Local\\Temp/ipykernel_22616/1095853828.py\u001b[0m in \u001b[0;36m<module>\u001b[1;34m\u001b[0m\n\u001b[0;32m      1\u001b[0m \u001b[0mlst\u001b[0m \u001b[1;33m=\u001b[0m \u001b[1;33m[\u001b[0m\u001b[1;33m]\u001b[0m\u001b[1;33m\u001b[0m\u001b[1;33m\u001b[0m\u001b[0m\n\u001b[0;32m      2\u001b[0m \u001b[1;33m\u001b[0m\u001b[0m\n\u001b[1;32m----> 3\u001b[1;33m \u001b[1;32mfor\u001b[0m \u001b[0mi\u001b[0m \u001b[1;32min\u001b[0m \u001b[0mrange\u001b[0m\u001b[1;33m(\u001b[0m\u001b[0mint\u001b[0m\u001b[1;33m(\u001b[0m\u001b[0minput\u001b[0m\u001b[1;33m(\u001b[0m\u001b[1;34m\"\"\u001b[0m\u001b[1;33m)\u001b[0m\u001b[1;33m)\u001b[0m\u001b[1;33m)\u001b[0m\u001b[1;33m:\u001b[0m\u001b[1;33m\u001b[0m\u001b[1;33m\u001b[0m\u001b[0m\n\u001b[0m\u001b[0;32m      4\u001b[0m     \u001b[0mdata\u001b[0m \u001b[1;33m=\u001b[0m \u001b[0mstr\u001b[0m\u001b[1;33m(\u001b[0m\u001b[0minput\u001b[0m\u001b[1;33m(\u001b[0m\u001b[1;34m\"\"\u001b[0m\u001b[1;33m)\u001b[0m\u001b[1;33m.\u001b[0m\u001b[0mstrip\u001b[0m\u001b[1;33m(\u001b[0m\u001b[1;33m)\u001b[0m\u001b[1;33m.\u001b[0m\u001b[0msplit\u001b[0m\u001b[1;33m(\u001b[0m\u001b[1;34m\" \"\u001b[0m\u001b[1;33m)\u001b[0m\u001b[1;33m)\u001b[0m\u001b[1;33m\u001b[0m\u001b[1;33m\u001b[0m\u001b[0m\n\u001b[0;32m      5\u001b[0m     \u001b[1;32mif\u001b[0m \u001b[1;34m\"insert\"\u001b[0m \u001b[1;32min\u001b[0m \u001b[0mdata\u001b[0m\u001b[1;33m[\u001b[0m\u001b[1;36m0\u001b[0m\u001b[1;33m]\u001b[0m\u001b[1;33m:\u001b[0m\u001b[1;33m\u001b[0m\u001b[1;33m\u001b[0m\u001b[0m\n",
                        "\u001b[1;32m~\\AppData\\Roaming\\Python\\Python39\\site-packages\\ipykernel\\kernelbase.py\u001b[0m in \u001b[0;36mraw_input\u001b[1;34m(self, prompt)\u001b[0m\n\u001b[0;32m    979\u001b[0m                 \u001b[1;34m\"raw_input was called, but this frontend does not support input requests.\"\u001b[0m\u001b[1;33m\u001b[0m\u001b[1;33m\u001b[0m\u001b[0m\n\u001b[0;32m    980\u001b[0m             )\n\u001b[1;32m--> 981\u001b[1;33m         return self._input_request(\n\u001b[0m\u001b[0;32m    982\u001b[0m             \u001b[0mstr\u001b[0m\u001b[1;33m(\u001b[0m\u001b[0mprompt\u001b[0m\u001b[1;33m)\u001b[0m\u001b[1;33m,\u001b[0m\u001b[1;33m\u001b[0m\u001b[1;33m\u001b[0m\u001b[0m\n\u001b[0;32m    983\u001b[0m             \u001b[0mself\u001b[0m\u001b[1;33m.\u001b[0m\u001b[0m_parent_ident\u001b[0m\u001b[1;33m[\u001b[0m\u001b[1;34m\"shell\"\u001b[0m\u001b[1;33m]\u001b[0m\u001b[1;33m,\u001b[0m\u001b[1;33m\u001b[0m\u001b[1;33m\u001b[0m\u001b[0m\n",
                        "\u001b[1;32m~\\AppData\\Roaming\\Python\\Python39\\site-packages\\ipykernel\\kernelbase.py\u001b[0m in \u001b[0;36m_input_request\u001b[1;34m(self, prompt, ident, parent, password)\u001b[0m\n\u001b[0;32m   1024\u001b[0m             \u001b[1;32mexcept\u001b[0m \u001b[0mKeyboardInterrupt\u001b[0m\u001b[1;33m:\u001b[0m\u001b[1;33m\u001b[0m\u001b[1;33m\u001b[0m\u001b[0m\n\u001b[0;32m   1025\u001b[0m                 \u001b[1;31m# re-raise KeyboardInterrupt, to truncate traceback\u001b[0m\u001b[1;33m\u001b[0m\u001b[1;33m\u001b[0m\u001b[1;33m\u001b[0m\u001b[0m\n\u001b[1;32m-> 1026\u001b[1;33m                 \u001b[1;32mraise\u001b[0m \u001b[0mKeyboardInterrupt\u001b[0m\u001b[1;33m(\u001b[0m\u001b[1;34m\"Interrupted by user\"\u001b[0m\u001b[1;33m)\u001b[0m \u001b[1;32mfrom\u001b[0m \u001b[1;32mNone\u001b[0m\u001b[1;33m\u001b[0m\u001b[1;33m\u001b[0m\u001b[0m\n\u001b[0m\u001b[0;32m   1027\u001b[0m             \u001b[1;32mexcept\u001b[0m \u001b[0mException\u001b[0m\u001b[1;33m:\u001b[0m\u001b[1;33m\u001b[0m\u001b[1;33m\u001b[0m\u001b[0m\n\u001b[0;32m   1028\u001b[0m                 \u001b[0mself\u001b[0m\u001b[1;33m.\u001b[0m\u001b[0mlog\u001b[0m\u001b[1;33m.\u001b[0m\u001b[0mwarning\u001b[0m\u001b[1;33m(\u001b[0m\u001b[1;34m\"Invalid Message:\"\u001b[0m\u001b[1;33m,\u001b[0m \u001b[0mexc_info\u001b[0m\u001b[1;33m=\u001b[0m\u001b[1;32mTrue\u001b[0m\u001b[1;33m)\u001b[0m\u001b[1;33m\u001b[0m\u001b[1;33m\u001b[0m\u001b[0m\n",
                        "\u001b[1;31mKeyboardInterrupt\u001b[0m: Interrupted by user"
                    ]
                }
            ],
            "source": [
                "lst = []\n",
                "N = int(input(\"\"))\n",
                "\n",
                "for i in range(N):\n",
                "    data = str(input(\"\").strip().split(\" \"))\n",
                "    if \"insert\" in data[0]:\n",
                "        lst.insert(data[1], data[2])\n",
                "    elif \"print\" in data[0]:\n",
                "        print(lst)\n",
                "    elif \"remove\" in data[0]:\n",
                "        lst.remove(data[1])\n",
                "    elif \"sort\" in data[0]:\n",
                "        lst.sort()\n",
                "    elif \"pop\" in data[0]:\n",
                "        lst.pop()\n",
                "    elif \"reverse\" in data[0]:\n",
                "        lst.reverse()"
            ]
        },
        {
            "cell_type": "code",
            "execution_count": 48,
            "metadata": {},
            "outputs": [
                {
                    "ename": "SyntaxError",
                    "evalue": "unmatched ')' (Temp/ipykernel_22616/3753728769.py, line 4)",
                    "output_type": "error",
                    "traceback": [
                        "\u001b[1;36m  File \u001b[1;32m\"C:\\Users\\HOLYFA~1\\AppData\\Local\\Temp/ipykernel_22616/3753728769.py\"\u001b[1;36m, line \u001b[1;32m4\u001b[0m\n\u001b[1;33m    lst.remove(lst[2]))\u001b[0m\n\u001b[1;37m                      ^\u001b[0m\n\u001b[1;31mSyntaxError\u001b[0m\u001b[1;31m:\u001b[0m unmatched ')'\n"
                    ]
                }
            ],
            "source": [
                "lst = [1, 2, 3]\n",
                "data = list(input(\"\").split(\" \"))\n",
                "\n",
                "lst.remove()\n",
                "\n",
                "print(\n",
                "    data,\n",
                "    lst,\n",
                "    sep=\"\\n\"\n",
                ")\n",
                "\n"
            ]
        },
        {
            "cell_type": "code",
            "execution_count": 49,
            "metadata": {},
            "outputs": [
                {
                    "name": "stdout",
                    "output_type": "stream",
                    "text": [
                        "John Appleseed\n"
                    ]
                }
            ],
            "source": [
                "name = \"John Appleseed   \"\n",
                "print(name.strip())"
            ]
        },
        {
            "cell_type": "code",
            "execution_count": 14,
            "metadata": {},
            "outputs": [
                {
                    "name": "stdout",
                    "output_type": "stream",
                    "text": [
                        "Www.HackerRank.com wWW.hACKERrANK.COM\n"
                    ]
                }
            ],
            "source": [
                "data = str(input(\"\"))\n",
                "result = \"\"\n",
                "\n",
                "for swap in data:\n",
                "    if swap == swap.upper():\n",
                "        result = result + swap.lower()\n",
                "    elif swap == swap.lower():\n",
                "        result = result + swap.upper()\n",
                "\n",
                "print(data, result)\n"
            ]
        },
        {
            "cell_type": "code",
            "execution_count": 18,
            "metadata": {},
            "outputs": [
                {
                    "name": "stdout",
                    "output_type": "stream",
                    "text": [
                        "this-is-a-string\n"
                    ]
                }
            ],
            "source": [
                "data = str(input(\"\"))\n",
                "result = data.split(\" \")\n",
                "result = \"-\".join(result)\n",
                "\n",
                "print(result)\n"
            ]
        },
        {
            "cell_type": "code",
            "execution_count": 2,
            "metadata": {},
            "outputs": [
                {
                    "name": "stdout",
                    "output_type": "stream",
                    "text": [
                        "Hello Ross Taylor! You just delved into python.\n"
                    ]
                }
            ],
            "source": [
                "name = str(input(\"\"))\n",
                "lastname = str(input(\"\"))\n",
                "\n",
                "def print_full_name(first, last):\n",
                "    return(\"Hello {} {} ! You just delved into python.\".format(first,last))\n",
                "\n",
                "print(print_full_name(name,lastname))"
            ]
        },
        {
            "cell_type": "code",
            "execution_count": 3,
            "metadata": {},
            "outputs": [
                {
                    "data": {
                        "text/plain": [
                            "True"
                        ]
                    },
                    "execution_count": 3,
                    "metadata": {},
                    "output_type": "execute_result"
                }
            ],
            "source": [
                "\"Hello Ross Taylor! You just delved into python.\" == \"Hello Ross Taylor! You just delved into python.\""
            ]
        },
        {
            "cell_type": "code",
            "execution_count": 2,
            "metadata": {},
            "outputs": [
                {
                    "name": "stdout",
                    "output_type": "stream",
                    "text": [
                        "1+1\n",
                        "365\n",
                        "4525\n",
                        "exit\n"
                    ]
                }
            ],
            "source": [
                "while True:\n",
                "    m = (input(\"Calculater\"))\n",
                "    if \"exit\" in m:\n",
                "        break"
            ]
        },
        {
            "cell_type": "code",
            "execution_count": 5,
            "metadata": {},
            "outputs": [
                {
                    "data": {
                        "text/plain": [
                            "'425425'"
                        ]
                    },
                    "execution_count": 5,
                    "metadata": {},
                    "output_type": "execute_result"
                }
            ],
            "source": [
                "number = input(\"\")\n",
                "\n",
                "def square_num(num):\n",
                "    sum = \"\"\n",
                "    for j in num:\n",
                "        sum = sum + str(int(j)**2)\n",
                "    return sum\n",
                "\n",
                "square_num(number)"
            ]
        },
        {
            "cell_type": "code",
            "execution_count": 8,
            "metadata": {},
            "outputs": [
                {
                    "data": {
                        "text/plain": [
                            "['A', 'B', 'C', 'D', 'A', 'B']"
                        ]
                    },
                    "execution_count": 8,
                    "metadata": {},
                    "output_type": "execute_result"
                }
            ],
            "source": [
                "def unique_in_order(iterable): \n",
                "    unique_list = []\n",
                "    prev = None\n",
                "    \n",
                "    for charac in iterable:\n",
                "        if charac != prev:\n",
                "            unique_list.append(charac)\n",
                "        prev = charac\n",
                "        \n",
                "    return unique_list\n",
                "\n",
                "unique_in_order(\"AAAABBBCCDAABBB\")\n",
                "\n",
                "'''' ex. unique_in_order('AAAABBBCCDAABBB') == ['A', 'B', 'C', 'D', 'A', 'B']\n",
                "unique_in_order('ABBCcAD')         == ['A', 'B', 'C', 'c', 'A', 'D']\n",
                "unique_in_order([1,2,2,3,3])       == [1,2,3]'''"
            ]
        }
    ],
    "metadata": {
        "interpreter": {
            "hash": "e9c86c43a356a27dd221d3bc44ba6fccb321acf27d5ba56e5552409ba7544a0e"
        },
        "kernelspec": {
            "display_name": "Python 3.9.2 64-bit",
            "name": "python3"
        },
        "language_info": {
            "codemirror_mode": {
                "name": "ipython",
                "version": 3
            },
            "file_extension": ".py",
            "mimetype": "text/x-python",
            "name": "python",
            "nbconvert_exporter": "python",
            "pygments_lexer": "ipython3",
            "version": "3.9.2"
        },
        "orig_nbformat": 4
    },
    "nbformat": 4,
    "nbformat_minor": 2
}
